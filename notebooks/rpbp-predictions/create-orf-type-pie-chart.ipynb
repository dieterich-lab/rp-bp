{
 "cells": [
  {
   "cell_type": "code",
   "execution_count": null,
   "metadata": {},
   "outputs": [],
   "source": [
    "%load_ext autoreload\n",
    "%autoreload 2\n",
    "%matplotlib inline\n",
    "\n",
    "from argparse import Namespace\n",
    "import pbio.misc.logging_utils as logging_utils\n",
    "\n",
    "args = Namespace()\n",
    "logger = logging_utils.get_ipython_logger()"
   ]
  },
  {
   "cell_type": "code",
   "execution_count": null,
   "metadata": {},
   "outputs": [],
   "source": [
    "import matplotlib.pyplot as plt\n",
    "import numpy as np\n",
    "import pandas as pd\n",
    "import seaborn as sns\n",
    "\n",
    "sns.set(style=\"white\")\n",
    "\n",
    "import pbio.utils.bed_utils as bed_utils\n",
    "import pbio.misc.mpl_utils as mpl_utils\n",
    "import pbio.ribo.ribo_utils as ribo_utils"
   ]
  },
  {
   "cell_type": "code",
   "execution_count": null,
   "metadata": {},
   "outputs": [],
   "source": [
    "args.orfs = \"/path/to/my/filtered.predicted-orfs.bed.gz\"\n",
    "args.out = \"/path/to/my/filtered.predicted-orfs.bar-chart.pdf\"\n",
    "args.use_groups = False\n",
    "args.title = \"My Title\""
   ]
  },
  {
   "cell_type": "code",
   "execution_count": null,
   "metadata": {},
   "outputs": [],
   "source": [
    "def get_orf_label_counts(counts, orf_label):\n",
    "    orf_types = ribo_utils.orf_type_labels_mapping[orf_label]\n",
    "    orf_label_counts = np.sum(counts[orf_types])\n",
    "\n",
    "    if np.isnan(orf_label_counts):\n",
    "        orf_label_counts = 0\n",
    "    return orf_label_counts"
   ]
  },
  {
   "cell_type": "code",
   "execution_count": null,
   "metadata": {},
   "outputs": [],
   "source": [
    "orfs = bed_utils.read_bed(args.orfs)\n",
    "\n",
    "strands = [\"+\", \"-\"]\n",
    "fracs = []\n",
    "labels = []\n",
    "for strand in [\"+\", \"-\"]:\n",
    "    m_strand = orfs[\"strand\"] == strand\n",
    "    orf_type_groups = orfs[m_strand].groupby(\"orf_type\")\n",
    "    counts = orf_type_groups.size()\n",
    "\n",
    "    if args.use_groups:\n",
    "        lab = ribo_utils.orf_type_labels\n",
    "        fr = [get_orf_label_counts(counts, l) for l in lab]\n",
    "    else:\n",
    "        fr = counts.values\n",
    "        lab = np.array(counts.index)\n",
    "\n",
    "    lab = [\"{} ({})\".format(l, f) for l, f in zip(lab, fr)]\n",
    "\n",
    "    fracs.append(fr)\n",
    "    labels.append(lab)\n",
    "\n",
    "fig, axes = plt.subplots(ncols=2, figsize=(10, 5))\n",
    "\n",
    "cmap = plt.cm.Blues\n",
    "colors = cmap(np.linspace(0.0, 1.0, len(labels[0])))\n",
    "\n",
    "# forward strand ORFs\n",
    "\n",
    "extra_artists = []\n",
    "if sum(fracs[0]) > 0:\n",
    "    patches, texts = axes[0].pie(fracs[0], colors=colors)\n",
    "    lgd = axes[0].legend(\n",
    "        patches, labels[0], loc=\"center right\", bbox_to_anchor=(0, 0.5)\n",
    "    )\n",
    "    axes[0].set_title(\"Strand: {}\".format(strands[0]))\n",
    "\n",
    "    extra_artists.append(lgd)\n",
    "else:\n",
    "    title = \"Strand: {}. No ORFs\".format(strands[0])\n",
    "    axes[0].set_title(title)\n",
    "    axes[0].set_axis_off()\n",
    "\n",
    "# reverse strand ORFs\n",
    "if sum(fracs[1]) > 0:\n",
    "    patches, texts = axes[1].pie(fracs[1], colors=colors)\n",
    "    lgd = axes[1].legend(\n",
    "        patches, labels[1], loc=\"center right\", bbox_to_anchor=(2.0, 0.5)\n",
    "    )\n",
    "    axes[1].set_title(\"Strand: {}\".format(strands[1]))\n",
    "    extra_artists.append(lgd)\n",
    "else:\n",
    "    title = \"Strand: {}. No ORFs\".format(strands[1])\n",
    "    axes[1].set_title(title)\n",
    "    axes[1].set_axis_off()\n",
    "\n",
    "if (args.title is not None) and (len(args.title) > 0):\n",
    "    sup = fig.suptitle(args.title)\n",
    "    extra_artists.append(sup)\n",
    "\n",
    "if args.out is not None:\n",
    "    fig.savefig(args.out, bbox_extra_artists=extra_artists, bbox_inches=\"tight\")"
   ]
  }
 ],
 "metadata": {
  "kernelspec": {
   "display_name": "Python 3",
   "language": "python",
   "name": "python3"
  },
  "language_info": {
   "codemirror_mode": {
    "name": "ipython",
    "version": 3
   },
   "file_extension": ".py",
   "mimetype": "text/x-python",
   "name": "python",
   "nbconvert_exporter": "python",
   "pygments_lexer": "ipython3",
   "version": "3.5.0"
  }
 },
 "nbformat": 4,
 "nbformat_minor": 0
}
