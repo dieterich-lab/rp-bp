{
 "cells": [
  {
   "cell_type": "code",
   "execution_count": null,
   "metadata": {},
   "outputs": [],
   "source": [
    "%load_ext autoreload\n",
    "%autoreload 2\n",
    "\n",
    "%matplotlib inline"
   ]
  },
  {
   "cell_type": "code",
   "execution_count": null,
   "metadata": {},
   "outputs": [],
   "source": [
    "from argparse import Namespace\n",
    "import matplotlib\n",
    "import matplotlib.pyplot as plt\n",
    "import numpy as np\n",
    "\n",
    "import pbio.misc.mpl_utils as mpl_utils\n",
    "import pbio.misc.math_utils as math_utils\n",
    "\n",
    "import pickle\n",
    "\n",
    "import pbio.misc.logging_utils as logging_utils"
   ]
  },
  {
   "cell_type": "code",
   "execution_count": null,
   "metadata": {},
   "outputs": [],
   "source": [
    "args = Namespace()\n",
    "logger = logging_utils.get_ipython_logger()"
   ]
  },
  {
   "cell_type": "code",
   "execution_count": null,
   "metadata": {},
   "outputs": [],
   "source": [
    "args.model = \"/prj/rpbp-paper/RPF/orf-predictions/plots/hek293.subcodon-clusters.pkl\"\n",
    "args.out = \"/prj/rpbp-paper/RPF/orf-predictions/plots/hek293.subcodon-clusters.pdf\"\n",
    "\n",
    "args.title = \"HEK293\"\n",
    "args.min_weight = 0.001\n",
    "args.log = True"
   ]
  },
  {
   "cell_type": "code",
   "execution_count": null,
   "metadata": {},
   "outputs": [],
   "source": [
    "msg = \"Reading model pickle file\"\n",
    "logger.info(msg)\n",
    "\n",
    "model_pkl = pickle.load(open(args.model, \"rb\"))"
   ]
  },
  {
   "cell_type": "code",
   "execution_count": null,
   "metadata": {},
   "outputs": [],
   "source": [
    "msg = \"Extracting clusters with minimum weight\"\n",
    "logger.info(msg)\n",
    "\n",
    "it = enumerate(zip(model_pkl[0], model_pkl[1]))\n",
    "\n",
    "periodic_clusters = []\n",
    "\n",
    "total_weight = 0\n",
    "for i, (m, w) in it:\n",
    "    if w > args.min_weight:\n",
    "        total_weight += w\n",
    "        periodic_clusters.append(i)"
   ]
  },
  {
   "cell_type": "code",
   "execution_count": null,
   "metadata": {},
   "outputs": [],
   "source": [
    "msg = \"Finding linear best fit line\"\n",
    "logger.info(msg)\n",
    "\n",
    "c = model_pkl[0][periodic_clusters, 0]\n",
    "x = model_pkl[0][periodic_clusters, 1]\n",
    "y = model_pkl[0][periodic_clusters, 2]\n",
    "s = model_pkl[1][periodic_clusters]\n",
    "\n",
    "fit = math_utils.fit_with_least_squares(x, y, w=s)\n",
    "(slope, intercept, power, r_sqr) = fit"
   ]
  },
  {
   "cell_type": "code",
   "execution_count": null,
   "metadata": {},
   "outputs": [],
   "source": [
    "msg = \"Plotting clusters\"\n",
    "logger.info(msg)\n",
    "\n",
    "min_val = min(min(x), min(y)) * 0.8\n",
    "max_val = max(max(x), max(y)) * 1.2\n",
    "lim = (min_val, max_val)\n",
    "\n",
    "fig, ax = plt.subplots()\n",
    "\n",
    "# axes and labels and things\n",
    "ax.set_aspect(\"equal\")\n",
    "ax.set_xlabel(\"Frame +1\")\n",
    "ax.set_ylabel(\"Frame +2\")\n",
    "\n",
    "ax.set_xlim(lim)\n",
    "ax.set_ylim(lim)\n",
    "\n",
    "if args.log:\n",
    "    ax.set_xscale(\"log\")\n",
    "    ax.set_yscale(\"log\")\n",
    "\n",
    "cm = plt.cm.Blues\n",
    "\n",
    "norm = None\n",
    "if args.log:\n",
    "    norm = matplotlib.colors.LogNorm()\n",
    "\n",
    "sc = ax.scatter(x, y, c=c, cmap=cm, s=s * 1000, norm=norm)\n",
    "cb = plt.colorbar(sc, ax=ax)\n",
    "cb.set_label(\"In-frame\")\n",
    "\n",
    "text = \"Accounts for {:.0%} of likelihood\".format(total_weight)\n",
    "ax.annotate(text, (0.25, 0.75), xycoords=\"axes fraction\")\n",
    "\n",
    "# draw the fit line\n",
    "mpl_utils.plot_trend_line(ax, x, intercept, slope, power)\n",
    "\n",
    "# write the fit information\n",
    "rsqr_str = \"$R^2$ = {:.2f}\".format(r_sqr)\n",
    "slope_str = \"slope = {:.2f}\".format(slope)\n",
    "intercept_str = \"intercept = {:.2f}\".format(intercept)\n",
    "strs = [rsqr_str, slope_str, intercept_str]\n",
    "text = \"\\n\".join(strs)\n",
    "\n",
    "ax.annotate(text, (0.55, 0.15), xycoords=\"axes fraction\")\n",
    "\n",
    "if len(args.title) > 0:\n",
    "    ax.set_title(args.title)\n",
    "\n",
    "msg = \"Writing the plot to disk\"\n",
    "logger.info(msg)\n",
    "\n",
    "# fig.savefig(args.out)"
   ]
  },
  {
   "cell_type": "code",
   "execution_count": null,
   "metadata": {},
   "outputs": [],
   "source": [
    "x, y"
   ]
  },
  {
   "cell_type": "code",
   "execution_count": null,
   "metadata": {},
   "outputs": [],
   "source": []
  }
 ],
 "metadata": {
  "kernelspec": {
   "display_name": "Python 3",
   "language": "python",
   "name": "python3"
  },
  "language_info": {
   "codemirror_mode": {
    "name": "ipython",
    "version": 3
   },
   "file_extension": ".py",
   "mimetype": "text/x-python",
   "name": "python",
   "nbconvert_exporter": "python",
   "pygments_lexer": "ipython3",
   "version": "3.5.0"
  }
 },
 "nbformat": 4,
 "nbformat_minor": 0
}
