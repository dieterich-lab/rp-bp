{
 "cells": [
  {
   "cell_type": "code",
   "execution_count": null,
   "metadata": {},
   "outputs": [],
   "source": [
    "%load_ext autoreload\n",
    "%autoreload 2\n",
    "%matplotlib inline\n",
    "\n",
    "from argparse import Namespace\n",
    "import pbio.misc.logging_utils as logging_utils\n",
    "\n",
    "args = Namespace()\n",
    "logger = logging_utils.get_ipython_logger()"
   ]
  },
  {
   "cell_type": "code",
   "execution_count": null,
   "metadata": {},
   "outputs": [],
   "source": [
    "import matplotlib.pyplot as plt\n",
    "import numpy as np\n",
    "import pandas as pd\n",
    "import seaborn as sns\n",
    "\n",
    "sns.set(style=\"white\", color_codes=True)\n",
    "\n",
    "import os\n",
    "\n",
    "import pbio.ribo.ribo_utils as ribo_utils\n",
    "import pbio.ribo.ribo_filenames as filenames\n",
    "\n",
    "import pbio.utils.bed_utils as bed_utils\n",
    "import pbio.misc.parallel as parallel\n",
    "import pbio.misc.utils as utils\n",
    "import yaml"
   ]
  },
  {
   "cell_type": "code",
   "execution_count": null,
   "metadata": {},
   "outputs": [],
   "source": [
    "def get_orf_type_counts(name, is_single_sample, config, args):\n",
    "\n",
    "    note_str = config.get(\"note\", None)\n",
    "\n",
    "    # and the smoothing parameters\n",
    "    fraction = config.get(\"smoothing_fraction\", None)\n",
    "    reweighting_iterations = config.get(\"smoothing_reweighting_iterations\", None)\n",
    "\n",
    "    # keep multimappers?\n",
    "    is_unique = not (\"keep_riboseq_multimappers\" in config)\n",
    "\n",
    "    if is_single_sample:\n",
    "        # otherwise, just treat things as normal\n",
    "        # get the lengths and offsets which meet the required criteria from\n",
    "        # the config file\n",
    "\n",
    "        try:\n",
    "            lengths, offsets = ribo_utils.get_periodic_lengths_and_offsets(\n",
    "                config, name, is_unique=is_unique\n",
    "            )\n",
    "\n",
    "        except FileNotFoundError:\n",
    "            msg = \"Could not find metagene periodicity file. Skipping. name: {}\".format(\n",
    "                name,\n",
    "            )\n",
    "            logger.warning(msg)\n",
    "            return None\n",
    "\n",
    "    else:\n",
    "        # we will not use the lengths and offsets in the filenames\n",
    "        lengths = None\n",
    "        offsets = None\n",
    "\n",
    "    predicted_orfs = filenames.get_riboseq_predicted_orfs(\n",
    "        config[\"riboseq_data\"],\n",
    "        name,\n",
    "        length=lengths,\n",
    "        offset=offsets,\n",
    "        is_unique=is_unique,\n",
    "        note=note_str,\n",
    "        fraction=fraction,\n",
    "        reweighting_iterations=reweighting_iterations,\n",
    "        is_filtered=True,\n",
    "        is_chisq=False,\n",
    "    )\n",
    "\n",
    "    if not os.path.exists(predicted_orfs):\n",
    "        msg = \"Could not find predicted ORFs. name: {}. file: {}\".format(\n",
    "            name, predicted_orfs\n",
    "        )\n",
    "        logger.warning(msg)\n",
    "        return None\n",
    "\n",
    "    bed = bed_utils.read_bed(predicted_orfs)\n",
    "\n",
    "    if args.use_groups:\n",
    "        bed[\"orf_type_group\"] = bed[\"orf_type\"].map(\n",
    "            ribo_utils.orf_type_labels_reverse_mapping\n",
    "        )\n",
    "\n",
    "        orf_type_counts = bed.groupby([\"orf_type_group\", \"strand\"]).size()\n",
    "        orf_type_counts = orf_type_counts.reset_index(name=\"count\")\n",
    "        orf_type_counts[\"display_name\"] = orf_type_counts[\"orf_type_group\"].map(\n",
    "            ribo_utils.orf_type_labels_display_name_map\n",
    "        )\n",
    "    else:\n",
    "        orf_type_counts = bed.groupby([\"orf_type\", \"strand\"]).size()\n",
    "        orf_type_counts = orf_type_counts.reset_index(name=\"count\")\n",
    "        orf_type_counts[\"display_name\"] = orf_type_counts[\"orf_type\"].map(\n",
    "            ribo_utils.orf_type_display_name_map\n",
    "        )\n",
    "\n",
    "    orf_type_counts[\"sample\"] = name\n",
    "    return orf_type_counts"
   ]
  },
  {
   "cell_type": "code",
   "execution_count": null,
   "metadata": {},
   "outputs": [],
   "source": [
    "args.config = \"/prj/riechert-riboseq/analysis/config/control-plus-huebner.yaml\"\n",
    "args.use_groups = True\n",
    "\n",
    "config = yaml.load(open(args.config))"
   ]
  },
  {
   "cell_type": "code",
   "execution_count": null,
   "metadata": {},
   "outputs": [],
   "source": [
    "is_single_sample = True\n",
    "single_sample_orf_types = parallel.apply_iter_simple(\n",
    "    config[\"riboseq_samples\"].keys(),\n",
    "    get_orf_type_counts,\n",
    "    is_single_sample,\n",
    "    config,\n",
    "    args,\n",
    ")\n",
    "single_sample_orf_types = utils.remove_nones(single_sample_orf_types)\n",
    "\n",
    "is_single_sample = False\n",
    "merged_sample_orf_types = parallel.apply_iter_simple(\n",
    "    ribo_utils.get_riboseq_replicates(config),\n",
    "    get_orf_type_counts,\n",
    "    is_single_sample,\n",
    "    config,\n",
    "    args,\n",
    ")\n",
    "merged_sample_orf_types = utils.remove_nones(merged_sample_orf_types)\n",
    "\n",
    "sample_orf_types = single_sample_orf_types + merged_sample_orf_types\n",
    "sample_orf_types_df = pd.concat(sample_orf_types)"
   ]
  },
  {
   "cell_type": "code",
   "execution_count": null,
   "metadata": {},
   "outputs": [],
   "source": [
    "def get_name(sample, d):\n",
    "    return d[sample]\n",
    "\n",
    "\n",
    "sample_name_map = ribo_utils.get_sample_name_map(config)\n",
    "condition_name_map = ribo_utils.get_riboseq_condition_name_map(config)\n",
    "\n",
    "sample_names = sample_orf_types_df[\"sample\"]\n",
    "sample_names = parallel.apply_iter_simple(sample_names, get_name, sample_name_map)\n",
    "sample_names = parallel.apply_iter_simple(sample_names, get_name, condition_name_map)\n",
    "\n",
    "sample_orf_types_df[\"sample_name\"] = sample_names\n",
    "sample_orf_types_df.head()"
   ]
  },
  {
   "cell_type": "code",
   "execution_count": null,
   "metadata": {},
   "outputs": [],
   "source": [
    "sample_orf_types_df.head()"
   ]
  },
  {
   "cell_type": "code",
   "execution_count": null,
   "metadata": {},
   "outputs": [],
   "source": [
    "ribo_utils.get_riboseq_condition_name_map(config)"
   ]
  },
  {
   "cell_type": "code",
   "execution_count": null,
   "metadata": {},
   "outputs": [],
   "source": [
    "sample_name_map[\"sedentary-2wks-wt.riboseq.cell-type-cm\"]"
   ]
  },
  {
   "cell_type": "code",
   "execution_count": null,
   "metadata": {},
   "outputs": [],
   "source": []
  }
 ],
 "metadata": {
  "kernelspec": {
   "display_name": "Python 3",
   "language": "python",
   "name": "python3"
  },
  "language_info": {
   "codemirror_mode": {
    "name": "ipython",
    "version": 3
   },
   "file_extension": ".py",
   "mimetype": "text/x-python",
   "name": "python",
   "nbconvert_exporter": "python",
   "pygments_lexer": "ipython3",
   "version": "3.6.1"
  }
 },
 "nbformat": 4,
 "nbformat_minor": 2
}
