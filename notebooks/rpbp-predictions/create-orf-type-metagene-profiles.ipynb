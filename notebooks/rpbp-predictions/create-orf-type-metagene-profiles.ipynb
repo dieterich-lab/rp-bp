{
 "cells": [
  {
   "cell_type": "code",
   "execution_count": null,
   "metadata": {},
   "outputs": [],
   "source": [
    "%matplotlib inline"
   ]
  },
  {
   "cell_type": "code",
   "execution_count": null,
   "metadata": {},
   "outputs": [],
   "source": [
    "import matplotlib.pyplot as plt\n",
    "import numpy as np\n",
    "import scipy.io\n",
    "\n",
    "import pbio.utils.bed_utils as bed_utils\n",
    "import pbio.misc.parallel as parallel\n",
    "import pbio.misc.utils as utils\n",
    "\n",
    "import pbio.misc.math_utils as math_utils\n",
    "\n",
    "import pbio.ribo.ribo_utils as ribo_utils"
   ]
  },
  {
   "cell_type": "code",
   "execution_count": null,
   "metadata": {},
   "outputs": [],
   "source": [
    "def get_windows(profile):\n",
    "\n",
    "    profile = profile / np.max(profile)\n",
    "\n",
    "    orf_len = len(profile)\n",
    "    if orf_len < 42:\n",
    "        # we would return first window and exit\n",
    "        first_window = profile[:21]\n",
    "        return (first_window, None, None)\n",
    "\n",
    "    first_window, middle_window, last_window = np.split(profile, [21, orf_len - 21])\n",
    "\n",
    "    # now, pull together and sum up all intermediate windows (of length 21)\n",
    "    # cheat a bit, and just split split the middle into 21-bp windows, drop the last window\n",
    "    indices = np.arange(21, len(middle_window), 21)\n",
    "    middle_windows = np.split(middle_window, indices)[:-1]\n",
    "\n",
    "    return first_window, middle_windows, last_window\n",
    "\n",
    "\n",
    "def get_profile(orf, profiles):\n",
    "    orf_num = orf[\"orf_num\"]\n",
    "    orf_len = orf[\"orf_len\"]\n",
    "\n",
    "    if orf_len < 21:\n",
    "        return None\n",
    "\n",
    "    profile = utils.to_dense(profiles, orf_num, length=orf_len)\n",
    "\n",
    "    if sum(profile) < 5:\n",
    "        return None\n",
    "\n",
    "    return profile\n",
    "\n",
    "\n",
    "def plot_rects(ind, means, variances, ax, ymax=0.5, fontsize=12, width=1):\n",
    "    cm = plt.cm.Blues\n",
    "\n",
    "    x_1 = means[0::3]\n",
    "    x_2 = means[1::3]\n",
    "    x_3 = means[2::3]\n",
    "\n",
    "    x_1_var = variances[0::3]\n",
    "    x_2_var = variances[1::3]\n",
    "    x_3_var = variances[2::3]\n",
    "\n",
    "    x_1_pos = np.arange(len(ind))[0::3]\n",
    "    x_2_pos = np.arange(len(ind))[1::3]\n",
    "    x_3_pos = np.arange(len(ind))[2::3]\n",
    "\n",
    "    x_1_rects = ax.bar(x_1_pos, x_1, width=width, color=cm(0.8), yerr=x_1_var)\n",
    "    x_2_rects = ax.bar(x_2_pos, x_2, width=width, color=cm(0.5), yerr=x_2_var)\n",
    "    x_3_rects = ax.bar(x_3_pos, x_3, width=width, color=cm(0.2), yerr=x_2_var)\n",
    "\n",
    "    ax.set_xticks(x_1_pos + width / 2)\n",
    "    ax.set_xticklabels(x_1_pos, fontsize=fontsize)\n",
    "\n",
    "    ax.set_xlim((-width / 2, len(ind) + width / 2))\n",
    "    ax.set_ylim((0, ymax))\n",
    "\n",
    "    yticks = ax.yaxis.get_major_ticks()\n",
    "    yticks[0].label1.set_visible(False)\n",
    "\n",
    "\n",
    "def plot_windows(windows, axes, ymax=0.5):\n",
    "\n",
    "    windows_np = np.array(windows)\n",
    "    first_windows = windows_np[:, 0]\n",
    "\n",
    "    # print(first_windows)\n",
    "\n",
    "    last_windows = windows_np[:, 2]\n",
    "    last_windows = np.array([lw for lw in last_windows if lw is not None])\n",
    "\n",
    "    middle_windows = windows_np[:, 1]\n",
    "    middle_windows = [mw for mw in middle_windows if mw is not None]\n",
    "    middle_windows = utils.flatten_lists(middle_windows)\n",
    "    middle_windows = np.array(middle_windows)\n",
    "\n",
    "    ind = np.arange(21)  # the x locations for the groups\n",
    "    width = 0.5  # the width of the bars\n",
    "\n",
    "    cm = plt.cm.Blues\n",
    "\n",
    "    # the first window\n",
    "    first_means = np.mean(first_windows, axis=0)\n",
    "    first_var = np.var(first_windows, axis=0)\n",
    "    plot_rects(ind, first_means, first_var, axes[0], ymax=ymax)\n",
    "\n",
    "    # rects_first = axes[0].bar(ind, first_means, width, color=cm(0.8), yerr=first_var)\n",
    "\n",
    "    # the middle windows\n",
    "    middle_means = np.mean(middle_windows, axis=0)\n",
    "    middle_var = np.var(middle_windows, axis=0)\n",
    "    # rects_middle = axes[1].bar(ind, middle_means, width, color=cm(0.5), yerr=middle_var)\n",
    "    plot_rects(ind, middle_means, middle_var, axes[1], ymax=ymax)\n",
    "\n",
    "    # the last window\n",
    "    last_means = np.mean(last_windows, axis=0)\n",
    "    last_var = np.var(last_windows, axis=0)\n",
    "    # rects_last = axes[2].bar(ind, last_means, width, color=cm(0.2), yerr=last_var)\n",
    "    plot_rects(ind, last_means, last_var, axes[2], ymax=ymax)"
   ]
  },
  {
   "cell_type": "code",
   "execution_count": null,
   "metadata": {},
   "outputs": [],
   "source": [
    "# orfs_file = \"/genomes/caenorhabditis_elegans/WBcel235.79.plus-de-novo/transcript-index/WBcel235.79.plus-de-novo.genomic-orfs.atg-only.bed.gz\"\n",
    "# profiles_file = \"/prj/grosshans-riboseq/RPF/orf-profiles/9h-unique.length-17-20-21-28-29-33.offset-6-3-3-12-12-13.profiles.mtx\"\n",
    "\n",
    "# orfs_file = \"/genomes/mus_musculus/GRCm38.79.plus-de-novo.genomic-orfs.atg-only.bed.gz\"\n",
    "# profiles_file = \"/prj/shirin-riboseq/RPF/orf-profiles/mouse-325.swim.cm.de-novo-unique.length-25-29-30-32-33-34-35.offset-12-12-12-13-13-13-13.profiles.mtx\"\n",
    "\n",
    "# orfs_file = \"/genomes/homo-sapiens/GRCh38.79.plus-de-novo.genomic-orfs.atg-only.bed.gz\"\n",
    "# profiles_file = \"/prj/leo-riboseq/RPF/orf-profiles/tgfp-1-unique.length-17-18-19-20-21-22-23-24-26-28-29-30-31-32.offset-0-0-0-3-3-12-12-7-9-12-12-12-13-13.profiles.mtx\"\n",
    "orfs_file = \"/genomes/homo-sapiens/GRCh38_79/transcript-index/GRCh38_79.genomic-orfs.aug-only.bed.gz\"\n",
    "orfs_file = (\n",
    "    \"/prj/rpbp-paper/RPF/orf-predictions/hek293-unique.filtered.predicted-orfs.bed.gz\"\n",
    ")\n",
    "\n",
    "profiles_file = \"/prj/rpbp-paper/RPF/orf-profiles/hek293-unique.length-18-19-21-22-23-24-25-26-27-28-29-30-31.offset-12-12-12-12-12-12-12-12-12-12-12-12-13.profiles.mtx.gz\"\n",
    "\n",
    "\n",
    "profiles = scipy.io.mmread(profiles_file).tocsr()"
   ]
  },
  {
   "cell_type": "code",
   "execution_count": null,
   "metadata": {},
   "outputs": [],
   "source": [
    "orfs_file = (\n",
    "    \"/prj/rpbp-paper/RPF/orf-predictions/hek293-unique.filtered.predicted-orfs.bed.gz\"\n",
    ")\n",
    "sample_title = \"HEK293\"\n",
    "orfs = bed_utils.read_bed(orfs_file)"
   ]
  },
  {
   "cell_type": "code",
   "execution_count": null,
   "metadata": {},
   "outputs": [],
   "source": [
    "image_file = \"/prj/rpbp-paper/paper-figures/orf-type-metagene-profiles.pdf\"\n",
    "\n",
    "orf_types = ribo_utils.orf_types\n",
    "\n",
    "nrows = len(orf_types)\n",
    "fig, axes = plt.subplots(\n",
    "    nrows=nrows, ncols=3, figsize=(10, 5 * nrows)\n",
    ")  # , sharey=True, sharex=True\n",
    "\n",
    "for i, orf_type in enumerate(orf_types):\n",
    "    m_orf_type = orfs[\"orf_type\"] == orf_type\n",
    "    g = orfs[m_orf_type]\n",
    "\n",
    "    %xdel windows\n",
    "    %xdel g_profiles\n",
    "    g_profiles = parallel.apply_df_simple(g, get_profile, profiles, progress_bar=True)\n",
    "    g_profiles = [g_profile for g_profile in g_profiles if g_profile is not None]\n",
    "    windows = parallel.apply_iter_simple(g_profiles, get_windows, progress_bar=True)\n",
    "\n",
    "    title = \"{} ({})\".format(orf_type, len(windows))\n",
    "    axes[i, 1].set_xlabel(title)\n",
    "\n",
    "    if len(windows) == 0:\n",
    "        print(title)\n",
    "        continue\n",
    "    plot_windows(windows, axes[i])\n",
    "\n",
    "suptitle = fig.suptitle(sample_title, y=0.91)\n",
    "\n",
    "if image_file is not None:\n",
    "    fig.savefig(image_file, bbox_inches=\"tight\", bbox_extra_artists=(suptitle,))"
   ]
  },
  {
   "cell_type": "code",
   "execution_count": null,
   "metadata": {},
   "outputs": [],
   "source": [
    "orf_types = [\"canonical\", \"five_prime\", \"noncoding\", \"three_prime\"]  # 'within']\n",
    "\n",
    "for orf_type in orf_types:\n",
    "    m_orf_type = orfs[\"orf_type\"] == orf_type\n",
    "    m_reverse = orfs[\"strand\"] == \"-\"\n",
    "    m_seqname = orfs[\"seqname\"] == \"I\"\n",
    "    g = orfs[m_orf_type & m_reverse]  # & m_seqname]\n",
    "\n",
    "    %xdel windows\n",
    "    %xdel g_profiles\n",
    "    g_profiles = parallel.apply_df_simple(g, get_profile, profiles, progress_bar=True)\n",
    "    g_profiles = [g_profile for g_profile in g_profiles if g_profile is not None]\n",
    "    windows = parallel.apply_iter_simple(g_profiles, get_windows, progress_bar=True)\n",
    "\n",
    "    title = \"{}, reverse ({})\".format(orf_type, len(windows))\n",
    "    plot_windows(windows, title)\n",
    "\n",
    "    %xdel windows\n",
    "    %xdel g_profiles\n",
    "    g = orfs[m_canonical & ~m_reverse]  # & m_seqname]\n",
    "    g_profiles = parallel.apply_df_simple(g, get_profile, profiles, progress_bar=True)\n",
    "    g_profiles = [g_profile for g_profile in g_profiles if g_profile is not None]\n",
    "    windows = parallel.apply_iter_simple(g_profiles, get_windows, progress_bar=True)\n",
    "\n",
    "    title = \"{}, forward ({})\".format(orf_type, len(windows))\n",
    "    plot_windows(windows, title)"
   ]
  },
  {
   "cell_type": "code",
   "execution_count": null,
   "metadata": {},
   "outputs": [],
   "source": [
    "orf_type = \"within\"\n",
    "m_canonical = orfs[\"orf_type\"] == orf_type\n",
    "m_reverse = orfs[\"strand\"] == \"-\"\n",
    "m_seqname = orfs[\"seqname\"] == \"I\"\n",
    "g = orfs[m_canonical & m_reverse]  # & m_seqname]"
   ]
  },
  {
   "cell_type": "code",
   "execution_count": null,
   "metadata": {},
   "outputs": [],
   "source": [
    "%xdel windows\n",
    "%xdel g_profiles\n",
    "g_profiles = parallel.apply_df_simple(g, get_profile, profiles, progress_bar=True)\n",
    "g_profiles = [g_profile for g_profile in g_profiles if g_profile is not None]\n",
    "windows = parallel.apply_iter_simple(g_profiles, get_windows, progress_bar=True)\n",
    "\n",
    "title = \"{}, reverse ({})\".format(orf_type, len(windows))\n",
    "plot_windows(windows, title)"
   ]
  },
  {
   "cell_type": "code",
   "execution_count": null,
   "metadata": {},
   "outputs": [],
   "source": [
    "%xdel windows\n",
    "%xdel g_profiles\n",
    "g = orfs[m_canonical & ~m_reverse]  # & m_seqname]\n",
    "g_profiles = parallel.apply_df_simple(g, get_profile, profiles, progress_bar=True)\n",
    "g_profiles = [g_profile for g_profile in g_profiles if g_profile is not None]\n",
    "windows = parallel.apply_iter_simple(g_profiles, get_windows, progress_bar=True)\n",
    "\n",
    "title = \"{}, forward ({})\".format(orf_type, len(windows))\n",
    "plot_windows(windows, title)"
   ]
  },
  {
   "cell_type": "code",
   "execution_count": null,
   "metadata": {},
   "outputs": [],
   "source": []
  },
  {
   "cell_type": "code",
   "execution_count": null,
   "metadata": {},
   "outputs": [],
   "source": []
  },
  {
   "cell_type": "code",
   "execution_count": null,
   "metadata": {},
   "outputs": [],
   "source": [
    "def run_all(g, profiles, num_cpus=2):\n",
    "    orf_type = g[\"orf_type\"].iloc[0]\n",
    "\n",
    "    g_profiles = parallel.apply_df_simple(g, get_profile, profiles, progress_bar=True)\n",
    "    windows = parallel.apply_parallel_iter(\n",
    "        g_profiles, num_cpus, get_windows, progress_bar=True\n",
    "    )\n",
    "\n",
    "    plot_windows(windows, orf_type)"
   ]
  },
  {
   "cell_type": "code",
   "execution_count": null,
   "metadata": {},
   "outputs": [],
   "source": [
    "num_cpus = 2\n",
    "orf_type_groups.apply(run_all, profiles, num_cpus)"
   ]
  },
  {
   "cell_type": "code",
   "execution_count": null,
   "metadata": {},
   "outputs": [],
   "source": [
    "run_all(g, profiles)"
   ]
  },
  {
   "cell_type": "code",
   "execution_count": null,
   "metadata": {},
   "outputs": [],
   "source": [
    "orf_type_groups.apply()"
   ]
  },
  {
   "cell_type": "code",
   "execution_count": null,
   "metadata": {},
   "outputs": [],
   "source": [
    "run_all(\"canonical\", orf_type_groups, profiles)"
   ]
  },
  {
   "cell_type": "code",
   "execution_count": null,
   "metadata": {},
   "outputs": [],
   "source": [
    "run_all(\"five_prime_overlap\", orf_type_groups, profiles)"
   ]
  },
  {
   "cell_type": "code",
   "execution_count": null,
   "metadata": {},
   "outputs": [],
   "source": [
    "run_all(\"five_prime\", orf_type_groups, profiles)"
   ]
  },
  {
   "cell_type": "code",
   "execution_count": null,
   "metadata": {},
   "outputs": [],
   "source": [
    "run_all(\"three_prime_overlap\", orf_type_groups, profiles)"
   ]
  },
  {
   "cell_type": "code",
   "execution_count": null,
   "metadata": {},
   "outputs": [],
   "source": []
  }
 ],
 "metadata": {
  "kernelspec": {
   "display_name": "Python 3",
   "language": "python",
   "name": "python3"
  },
  "language_info": {
   "codemirror_mode": {
    "name": "ipython",
    "version": 3
   },
   "file_extension": ".py",
   "mimetype": "text/x-python",
   "name": "python",
   "nbconvert_exporter": "python",
   "pygments_lexer": "ipython3",
   "version": "3.5.0"
  }
 },
 "nbformat": 4,
 "nbformat_minor": 0
}
