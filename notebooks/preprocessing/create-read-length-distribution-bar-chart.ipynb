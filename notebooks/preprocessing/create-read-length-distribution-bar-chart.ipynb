{
 "cells": [
  {
   "cell_type": "code",
   "execution_count": null,
   "metadata": {},
   "outputs": [],
   "source": [
    "%load_ext autoreload\n",
    "%autoreload 2\n",
    "%matplotlib inline\n",
    "\n",
    "from argparse import Namespace\n",
    "import pbiotools.misc.logging_utils as logging_utils\n",
    "\n",
    "args = Namespace()\n",
    "logger = logging_utils.get_ipython_logger()"
   ]
  },
  {
   "cell_type": "code",
   "execution_count": null,
   "metadata": {},
   "outputs": [],
   "source": [
    "import matplotlib.pyplot as plt\n",
    "import matplotlib.ticker as mtick\n",
    "\n",
    "import pandas as pd\n",
    "import seaborn as sns\n",
    "\n",
    "sns.set(style=\"white\")\n",
    "import yaml\n",
    "\n",
    "import pbiotools.ribo.ribo_filenames as filenames\n",
    "\n",
    "import pbiotools.misc.mpl_utils as mpl_utils"
   ]
  },
  {
   "cell_type": "code",
   "execution_count": null,
   "metadata": {},
   "outputs": [],
   "source": [
    "args.config = \"/path/to/my/config.yaml\"\n",
    "args.distribution = \"/path/to/my/read-length-distribution.csv.gz\"\n",
    "args.sample = \"my-sample-name\"\n",
    "args.out = \"/path/to/my/read-length-distribution.pdf\"\n",
    "\n",
    "args.is_unique = True\n",
    "\n",
    "args.title = None\n",
    "args.min_read_length = 22\n",
    "args.max_read_length = 35\n",
    "\n",
    "args.fontsize = 20\n",
    "args.ymax = 1.5e6"
   ]
  },
  {
   "cell_type": "code",
   "execution_count": null,
   "metadata": {},
   "outputs": [],
   "source": [
    "msg = \"Reading the config file\"\n",
    "logger.info(msg)\n",
    "config = yaml.load(open(args.config))\n",
    "\n",
    "msg = \"Reading the read length distributions\"\n",
    "logger.info(msg)\n",
    "distribution_df = pd.read_csv(args.distribution)\n",
    "\n",
    "msg = \"Constructing sample base name\"\n",
    "logger.info(msg)\n",
    "note_str = filenames.get_note_string(config.get(\"note\"))\n",
    "unique_str = filenames.get_unique_string(args.is_unique)\n",
    "sample_name = \"{}{}{}\".format(args.sample, note_str, unique_str)\n",
    "\n",
    "logger.info(\"sample base name: {}\".format(sample_name))\n",
    "\n",
    "msg = \"Filtering read lengths\"\n",
    "logger.info(msg)\n",
    "\n",
    "m_sample = distribution_df[\"basename\"] == sample_name\n",
    "m_min_read_length = distribution_df[\"length\"] >= args.min_read_length\n",
    "m_max_read_length = distribution_df[\"length\"] <= args.max_read_length\n",
    "m_to_view = m_min_read_length & m_max_read_length & m_sample\n",
    "\n",
    "lengths_to_view = distribution_df[m_to_view]\n",
    "lengths_to_view = lengths_to_view.sort_values(\"length\")\n",
    "\n",
    "msg = \"Creating title\"\n",
    "logger.info(msg)\n",
    "\n",
    "title = args.title\n",
    "if (title is None) and (args.config is not None):\n",
    "\n",
    "    if \"riboseq_sample_name_map\" in config:\n",
    "        title = config[\"riboseq_sample_name_map\"].get(args.sample)\n",
    "\n",
    "        if args.is_unique:\n",
    "            title = \"{}, Unique only\".format(title)\n",
    "\n",
    "\n",
    "msg = \"Creating the bar chart\"\n",
    "logger.info(msg)\n",
    "fig, ax = plt.subplots()\n",
    "\n",
    "lengths_to_view.plot.bar(ax=ax, x=\"length\", y=\"count\", title=title, legend=False)\n",
    "ax.set_xlabel(\"Length\", fontsize=args.fontsize)\n",
    "ax.set_ylabel(\"Count\", fontsize=args.fontsize)\n",
    "ax.yaxis.set_major_formatter(mtick.FormatStrFormatter(\"%.2e\"))\n",
    "\n",
    "\n",
    "ax.set_ylim((0, args.ymax))\n",
    "mpl_utils.remove_top_and_right_splines(ax)\n",
    "mpl_utils.set_title_fontsize(ax, args.fontsize)\n",
    "mpl_utils.set_ticklabels_fontsize(ax, args.fontsize)\n",
    "\n",
    "msg = \"Saving plot to disk\"\n",
    "logger.info(msg)\n",
    "if args.out is not None:\n",
    "    fig.savefig(args.out, bbox_inches=\"tight\")"
   ]
  },
  {
   "cell_type": "code",
   "execution_count": null,
   "metadata": {},
   "outputs": [],
   "source": []
  }
 ],
 "metadata": {
  "kernelspec": {
   "display_name": "Python 3",
   "language": "python",
   "name": "python3"
  },
  "language_info": {
   "codemirror_mode": {
    "name": "ipython",
    "version": 3
   },
   "file_extension": ".py",
   "mimetype": "text/x-python",
   "name": "python",
   "nbconvert_exporter": "python",
   "pygments_lexer": "ipython3",
   "version": "3.5.0"
  }
 },
 "nbformat": 4,
 "nbformat_minor": 1
}
